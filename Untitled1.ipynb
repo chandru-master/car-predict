{
 "cells": [
  {
   "cell_type": "code",
   "execution_count": null,
   "id": "23c64bc3",
   "metadata": {},
   "outputs": [],
   "source": []
  }
 ],
 "metadata": {
  "kernelspec": {
   "display_name": "Python 3",
   "language": "python",
   "name": "python3"
  }
 },
 "nbformat": 4,
 "nbformat_minor": 5
}
